{
  "nbformat": 4,
  "nbformat_minor": 0,
  "metadata": {
    "colab": {
      "name": "Find the first non-consecutive number",
      "provenance": [],
      "authorship_tag": "ABX9TyMh6cyITWch1lweBZewk1IU",
      "include_colab_link": true
    },
    "kernelspec": {
      "name": "python3",
      "display_name": "Python 3"
    }
  },
  "cells": [
    {
      "cell_type": "markdown",
      "metadata": {
        "id": "view-in-github",
        "colab_type": "text"
      },
      "source": [
        "<a href=\"https://colab.research.google.com/github/gilbertduenas/codewars---Find-the-first-non-consecutive-number/blob/master/Find_the_first_non_consecutive_number.ipynb\" target=\"_parent\"><img src=\"https://colab.research.google.com/assets/colab-badge.svg\" alt=\"Open In Colab\"/></a>"
      ]
    },
    {
      "cell_type": "code",
      "metadata": {
        "id": "YUQ1WvbG8p6Y",
        "colab_type": "code",
        "colab": {}
      },
      "source": [
        "def first_non_consecutive(arr):\n",
        "    for i in range(len(arr)-1):\n",
        "        if arr[i+1] - arr[i] > 1:\n",
        "            return arr[i+1]"
      ],
      "execution_count": 1,
      "outputs": []
    },
    {
      "cell_type": "code",
      "metadata": {
        "id": "mUF5NCzu88K3",
        "colab_type": "code",
        "colab": {
          "base_uri": "https://localhost:8080/",
          "height": 34
        },
        "outputId": "f0a5af5d-5751-4bcd-cafa-0b7974ea6188"
      },
      "source": [
        "first_non_consecutive([1,2,3,4,6,7,8])"
      ],
      "execution_count": 2,
      "outputs": [
        {
          "output_type": "execute_result",
          "data": {
            "text/plain": [
              "6"
            ]
          },
          "metadata": {
            "tags": []
          },
          "execution_count": 2
        }
      ]
    },
    {
      "cell_type": "code",
      "metadata": {
        "id": "FbriorUU89-J",
        "colab_type": "code",
        "colab": {}
      },
      "source": [
        "first_non_consecutive([1,2,3,4,5,6,7,8])"
      ],
      "execution_count": 3,
      "outputs": []
    },
    {
      "cell_type": "code",
      "metadata": {
        "id": "fDXQhUjG8-vp",
        "colab_type": "code",
        "colab": {
          "base_uri": "https://localhost:8080/",
          "height": 34
        },
        "outputId": "322936cf-004c-46a9-8ad1-3638e2a9f8ee"
      },
      "source": [
        "first_non_consecutive([4,6,7,8,9,11])"
      ],
      "execution_count": 4,
      "outputs": [
        {
          "output_type": "execute_result",
          "data": {
            "text/plain": [
              "6"
            ]
          },
          "metadata": {
            "tags": []
          },
          "execution_count": 4
        }
      ]
    },
    {
      "cell_type": "code",
      "metadata": {
        "id": "1YbyLeXK8_bU",
        "colab_type": "code",
        "colab": {
          "base_uri": "https://localhost:8080/",
          "height": 34
        },
        "outputId": "977d8040-cca1-4af6-a362-5304c9be014d"
      },
      "source": [
        "first_non_consecutive([4,5,6,7,8,9,11])"
      ],
      "execution_count": 5,
      "outputs": [
        {
          "output_type": "execute_result",
          "data": {
            "text/plain": [
              "11"
            ]
          },
          "metadata": {
            "tags": []
          },
          "execution_count": 5
        }
      ]
    },
    {
      "cell_type": "code",
      "metadata": {
        "id": "B778m_kq9BHq",
        "colab_type": "code",
        "colab": {}
      },
      "source": [
        "first_non_consecutive([31,32])"
      ],
      "execution_count": 6,
      "outputs": []
    },
    {
      "cell_type": "code",
      "metadata": {
        "id": "QE3er6Oe9BxV",
        "colab_type": "code",
        "colab": {
          "base_uri": "https://localhost:8080/",
          "height": 34
        },
        "outputId": "8390b1de-84a7-490f-ba41-9942a1f72c3c"
      },
      "source": [
        "first_non_consecutive([-3,-2,0,1])"
      ],
      "execution_count": 7,
      "outputs": [
        {
          "output_type": "execute_result",
          "data": {
            "text/plain": [
              "0"
            ]
          },
          "metadata": {
            "tags": []
          },
          "execution_count": 7
        }
      ]
    },
    {
      "cell_type": "code",
      "metadata": {
        "id": "O1C7I9lT9C5E",
        "colab_type": "code",
        "colab": {
          "base_uri": "https://localhost:8080/",
          "height": 34
        },
        "outputId": "7e0771d0-9e2b-43af-faf6-69110df1b464"
      },
      "source": [
        "first_non_consecutive([-5,-4,-3,-1])"
      ],
      "execution_count": 8,
      "outputs": [
        {
          "output_type": "execute_result",
          "data": {
            "text/plain": [
              "-1"
            ]
          },
          "metadata": {
            "tags": []
          },
          "execution_count": 8
        }
      ]
    },
    {
      "cell_type": "code",
      "metadata": {
        "id": "q1hod54a9Irl",
        "colab_type": "code",
        "colab": {}
      },
      "source": [
        "arr = [4,5,6,7,8,9,11]"
      ],
      "execution_count": 9,
      "outputs": []
    },
    {
      "cell_type": "code",
      "metadata": {
        "id": "qQl51iwfNWAv",
        "colab_type": "code",
        "colab": {}
      },
      "source": [
        ""
      ],
      "execution_count": 9,
      "outputs": []
    }
  ]
}